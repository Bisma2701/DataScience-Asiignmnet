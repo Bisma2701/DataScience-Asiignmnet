{
  "nbformat": 4,
  "nbformat_minor": 0,
  "metadata": {
    "colab": {
      "provenance": [],
      "toc_visible": true
    },
    "kernelspec": {
      "name": "python3",
      "display_name": "Python 3"
    },
    "language_info": {
      "name": "python"
    }
  },
  "cells": [
    {
      "cell_type": "code",
      "source": [
        "# Assignment 2: Data Cleaning\n",
        "# Bisma - Data Science Assignment\n",
        "\n",
        "# =============================\n",
        "# 1. Import Libraries\n",
        "# =============================\n",
        "import pandas as pd\n",
        "import numpy as np\n",
        "\n",
        "# =============================\n",
        "# 2. Load Dataset\n",
        "# =============================\n",
        "# Apna dataset ka file path yahan lagao (CSV format)\n",
        "# Example: Titanic.csv / Iris.csv / apka project dataset\n",
        "# df = pd.read_csv(\"your_dataset.csv\") # Commented out the line causing the error\n",
        "\n",
        "print(\"🔹 BEFORE CLEANING REPORT\")\n",
        "print(\"Shape of dataset:\", df.shape)\n",
        "print(\"\\nMissing values:\\n\", df.isnull().sum())\n",
        "print(\"\\nDuplicate rows:\", df.duplicated().sum())\n",
        "print(\"\\nDataset Preview (first 5 rows):\\n\", df.head())\n",
        "\n",
        "# =============================\n",
        "# 3. Remove Duplicates\n",
        "# =============================\n",
        "df = df.drop_duplicates()\n",
        "\n",
        "# =============================\n",
        "# 4. Handle Missing Values\n",
        "# =============================\n",
        "# Option 1: Fill numeric values with mean\n",
        "for col in df.select_dtypes(include=np.number).columns:\n",
        "    df[col] = df[col].fillna(df[col].mean())\n",
        "\n",
        "# Option 2: Fill categorical values with mode\n",
        "for col in df.select_dtypes(include=\"object\").columns:\n",
        "    df[col] = df[col].fillna(df[col].mode()[0])\n",
        "\n",
        "# =============================\n",
        "# 5. Treat Outliers (IQR Method)\n",
        "# =============================\n",
        "def remove_outliers_iqr(data, column):\n",
        "    Q1 = data[column].quantile(0.25)\n",
        "    Q3 = data[column].quantile(0.75)\n",
        "    IQR = Q3 - Q1\n",
        "    lower = Q1 - 1.5 * IQR\n",
        "    upper = Q3 + 1.5 * IQR\n",
        "    return data[(data[column] >= lower) & (data[column] <= upper)]\n",
        "\n",
        "# Note: Applying outlier removal to the iris dataset might remove some data points\n",
        "# that are not true outliers but rather natural variations in the data.\n",
        "# Consider this when interpreting the results.\n",
        "for col in df.select_dtypes(include=np.number).columns:\n",
        "    df = remove_outliers_iqr(df, col)\n",
        "\n",
        "# =============================\n",
        "# 6. AFTER CLEANING REPORT\n",
        "# =============================\n",
        "print(\"\\n🔹 AFTER CLEANING REPORT\")\n",
        "print(\"Shape of dataset:\", df.shape)\n",
        "print(\"\\nMissing values:\\n\", df.isnull().sum())\n",
        "print(\"\\nDuplicate rows:\", df.duplicated().sum())\n",
        "print(\"\\nDataset Preview (first 5 rows):\\n\", df.head())\n",
        "\n",
        "# =============================\n",
        "# 7. Save Cleaned Dataset\n",
        "# =============================\n",
        "df.to_csv(\"cleaned_dataset.csv\", index=False)\n",
        "print(\"\\n✅ Cleaned dataset saved as 'cleaned_dataset.csv'\")"
      ],
      "metadata": {
        "colab": {
          "base_uri": "https://localhost:8080/"
        },
        "id": "n8fdJeq4Hp1I",
        "outputId": "2a0889a9-fbac-4e7b-8ac0-329aef006265"
      },
      "execution_count": 10,
      "outputs": [
        {
          "output_type": "stream",
          "name": "stdout",
          "text": [
            "🔹 BEFORE CLEANING REPORT\n",
            "Shape of dataset: (145, 5)\n",
            "\n",
            "Missing values:\n",
            " sepal_length    0\n",
            "sepal_width     0\n",
            "petal_length    0\n",
            "petal_width     0\n",
            "species         0\n",
            "dtype: int64\n",
            "\n",
            "Duplicate rows: 0\n",
            "\n",
            "Dataset Preview (first 5 rows):\n",
            "    sepal_length  sepal_width  petal_length  petal_width species\n",
            "0           5.1          3.5           1.4          0.2  setosa\n",
            "1           4.9          3.0           1.4          0.2  setosa\n",
            "2           4.7          3.2           1.3          0.2  setosa\n",
            "3           4.6          3.1           1.5          0.2  setosa\n",
            "4           5.0          3.6           1.4          0.2  setosa\n",
            "\n",
            "🔹 AFTER CLEANING REPORT\n",
            "Shape of dataset: (145, 5)\n",
            "\n",
            "Missing values:\n",
            " sepal_length    0\n",
            "sepal_width     0\n",
            "petal_length    0\n",
            "petal_width     0\n",
            "species         0\n",
            "dtype: int64\n",
            "\n",
            "Duplicate rows: 0\n",
            "\n",
            "Dataset Preview (first 5 rows):\n",
            "    sepal_length  sepal_width  petal_length  petal_width species\n",
            "0           5.1          3.5           1.4          0.2  setosa\n",
            "1           4.9          3.0           1.4          0.2  setosa\n",
            "2           4.7          3.2           1.3          0.2  setosa\n",
            "3           4.6          3.1           1.5          0.2  setosa\n",
            "4           5.0          3.6           1.4          0.2  setosa\n",
            "\n",
            "✅ Cleaned dataset saved as 'cleaned_dataset.csv'\n"
          ]
        }
      ]
    },
    {
      "cell_type": "code",
      "source": [
        "print(\"Shape of dataframe:\", df.shape)\n",
        "print(\"\\nFirst 5 rows of dataset:\")\n",
        "print(df.head())"
      ],
      "metadata": {
        "colab": {
          "base_uri": "https://localhost:8080/"
        },
        "id": "IJI1UZGuIxZH",
        "outputId": "be49771a-75a6-4551-f413-43bd838da8de"
      },
      "execution_count": 11,
      "outputs": [
        {
          "output_type": "stream",
          "name": "stdout",
          "text": [
            "Shape of dataframe: (145, 5)\n",
            "\n",
            "First 5 rows of dataset:\n",
            "   sepal_length  sepal_width  petal_length  petal_width species\n",
            "0           5.1          3.5           1.4          0.2  setosa\n",
            "1           4.9          3.0           1.4          0.2  setosa\n",
            "2           4.7          3.2           1.3          0.2  setosa\n",
            "3           4.6          3.1           1.5          0.2  setosa\n",
            "4           5.0          3.6           1.4          0.2  setosa\n"
          ]
        }
      ]
    }
  ]
}